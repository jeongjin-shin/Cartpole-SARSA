{
  "cells": [
    {
      "cell_type": "markdown",
      "metadata": {
        "id": "view-in-github",
        "colab_type": "text"
      },
      "source": [
        "<a href=\"https://colab.research.google.com/github/jeongjin-shin/Cartpole-SARSA/blob/main/cartpole_sarsa.ipynb\" target=\"_parent\"><img src=\"https://colab.research.google.com/assets/colab-badge.svg\" alt=\"Open In Colab\"/></a>"
      ]
    },
    {
      "cell_type": "code",
      "execution_count": 1,
      "metadata": {
        "id": "0v1N20f1e1BB"
      },
      "outputs": [],
      "source": [
        "import tensorflow as tf\n",
        "import numpy as np\n",
        "import gym\n",
        "from tensorflow.keras.layers import *\n",
        "import random\n",
        "import math"
      ]
    },
    {
      "cell_type": "code",
      "execution_count": 2,
      "metadata": {
        "id": "vZqJtmajgc90"
      },
      "outputs": [],
      "source": [
        "model = tf.keras.models.Sequential()\n",
        "\n",
        "model.add(Dense(12,activation = 'tanh',input_shape = (4,)))\n",
        "model.add(Dense(2,activation = 'linear')) "
      ]
    },
    {
      "cell_type": "code",
      "execution_count": 3,
      "metadata": {
        "id": "kWzoAL11rcSG"
      },
      "outputs": [],
      "source": [
        "model.compile(optimizer = 'adam',loss = 'MSE',metrics = ['accuracy'])"
      ]
    },
    {
      "cell_type": "code",
      "execution_count": 4,
      "metadata": {
        "id": "40yNuoWAaN4W"
      },
      "outputs": [],
      "source": [
        "episodes = 1000\n",
        "env = gym.make(\"CartPole-v1\")"
      ]
    },
    {
      "cell_type": "code",
      "execution_count": 5,
      "metadata": {
        "id": "ujOQaXGmhOAl"
      },
      "outputs": [],
      "source": [
        "def preprocessing(state):\n",
        "    return np.reshape(state,(1,4))"
      ]
    },
    {
      "cell_type": "code",
      "execution_count": 6,
      "metadata": {
        "id": "HBHSXzdToi6Z"
      },
      "outputs": [],
      "source": [
        "def get_learning_rate(t):\n",
        "        return max(0.1, min(1., 1. - math.log10((t + 1) / 25)))"
      ]
    },
    {
      "cell_type": "code",
      "execution_count": 7,
      "metadata": {
        "id": "FyKWon0Rj7OP"
      },
      "outputs": [],
      "source": [
        "model= tf.keras.models.load_model(\"cartpole-sarsa1541.h5\")"
      ]
    },
    {
      "cell_type": "code",
      "execution_count": 9,
      "metadata": {
        "colab": {
          "base_uri": "https://localhost:8080/"
        },
        "id": "Os7v-GaGaGHr",
        "outputId": "4bc34341-0476-4ec9-cc85-a42a73a91e31"
      },
      "outputs": [
        {
          "output_type": "stream",
          "name": "stdout",
          "text": [
            "Episode : 1551      Reward_total : -92.0      Reward_local_mean : -91.1\n",
            "Episode : 1561      Reward_total : -92.0      Reward_local_mean : -91.3\n",
            "Episode : 1571      Reward_total : -92.0      Reward_local_mean : -90.7\n",
            "Episode : 1581      Reward_total : -90.0      Reward_local_mean : -91.2\n",
            "Episode : 1591      Reward_total : -90.0      Reward_local_mean : -90.9\n",
            "Episode : 1601      Reward_total : -92.0      Reward_local_mean : -91.5\n",
            "Episode : 1611      Reward_total : -91.0      Reward_local_mean : -90.1\n",
            "Episode : 1621      Reward_total : -91.0      Reward_local_mean : -91.1\n",
            "Episode : 1631      Reward_total : -91.0      Reward_local_mean : -90.7\n",
            "Episode : 1641      Reward_total : -90.0      Reward_local_mean : -90.7\n",
            "Episode : 1651      Reward_total : -90.0      Reward_local_mean : -91.7\n",
            "Episode : 1661      Reward_total : -92.0      Reward_local_mean : -90.0\n",
            "Episode : 1671      Reward_total : -91.0      Reward_local_mean : -90.8\n",
            "Episode : 1681      Reward_total : -91.0      Reward_local_mean : -91.0\n",
            "Episode : 1691      Reward_total : -92.0      Reward_local_mean : -90.5\n",
            "Episode : 1701      Reward_total : -93.0      Reward_local_mean : -91.3\n",
            "Episode : 1711      Reward_total : -91.0      Reward_local_mean : -90.4\n",
            "Episode : 1721      Reward_total : -90.0      Reward_local_mean : -91.6\n",
            "Episode : 1731      Reward_total : -91.0      Reward_local_mean : -91.2\n",
            "Episode : 1741      Reward_total : -93.0      Reward_local_mean : -91.3\n",
            "Episode : 1751      Reward_total : -91.0      Reward_local_mean : -91.1\n",
            "Episode : 1761      Reward_total : -90.0      Reward_local_mean : -90.7\n",
            "Episode : 1771      Reward_total : -90.0      Reward_local_mean : -90.7\n",
            "Episode : 1781      Reward_total : -89.0      Reward_local_mean : -90.9\n",
            "Episode : 1791      Reward_total : -91.0      Reward_local_mean : -91.5\n",
            "Episode : 1801      Reward_total : -90.0      Reward_local_mean : -90.3\n",
            "Episode : 1811      Reward_total : -90.0      Reward_local_mean : -91.0\n",
            "Episode : 1821      Reward_total : -89.0      Reward_local_mean : -91.0\n",
            "Episode : 1831      Reward_total : -89.0      Reward_local_mean : -90.5\n",
            "Episode : 1841      Reward_total : -92.0      Reward_local_mean : -91.3\n",
            "Episode : 1851      Reward_total : -89.0      Reward_local_mean : -90.4\n",
            "Episode : 1861      Reward_total : -92.0      Reward_local_mean : -91.0\n",
            "Episode : 1871      Reward_total : -92.0      Reward_local_mean : -91.3\n",
            "Episode : 1881      Reward_total : -91.0      Reward_local_mean : -90.6\n",
            "Episode : 1891      Reward_total : -92.0      Reward_local_mean : -91.3\n",
            "Episode : 1901      Reward_total : -88.0      Reward_local_mean : -91.1\n",
            "Episode : 1911      Reward_total : -92.0      Reward_local_mean : -91.3\n",
            "Episode : 1921      Reward_total : -92.0      Reward_local_mean : -91.1\n",
            "Episode : 1931      Reward_total : -92.0      Reward_local_mean : -91.1\n",
            "Episode : 1941      Reward_total : -92.0      Reward_local_mean : -91.9\n",
            "Episode : 1951      Reward_total : -91.0      Reward_local_mean : -90.9\n",
            "Episode : 1961      Reward_total : -92.0      Reward_local_mean : -91.1\n",
            "Episode : 1971      Reward_total : -92.0      Reward_local_mean : -91.5\n",
            "Episode : 1981      Reward_total : -93.0      Reward_local_mean : -91.2\n",
            "Episode : 1991      Reward_total : -91.0      Reward_local_mean : -90.6\n",
            "*******End Learning\n"
          ]
        }
      ],
      "source": [
        "replay_mem = []\n",
        "replay_size = 32\n",
        "reward_list = []\n",
        "local_mean = list()\n",
        "newaction = 0\n",
        "for episode in range(1541,2000):\n",
        "\n",
        "    done = False\n",
        "    state = env.reset()\n",
        "    count = 0\n",
        "    reward_tot = 0\n",
        "    model.save(\"cartpole-sarsa.h5\")\n",
        "\n",
        "    while not done:\n",
        "        count += 1\n",
        "        e = (1/(episode/200+1))\n",
        "        \n",
        "        \n",
        "        #epslion greedy search\n",
        "        Q = model.predict(preprocessing(state))\n",
        "        if e>np.random.rand(1):\n",
        "            action = env.action_space.sample()\n",
        "        else:\n",
        "            action = np.argmax(Q)\n",
        "            \n",
        "            \n",
        "        #take_action and set reward\n",
        "        state_next, reward, done, info = env.step(action)\n",
        "        if done:\n",
        "            reward = - 100\n",
        "            \n",
        "        \n",
        "        #replay_mem\n",
        "        replay_mem.append([state,action,reward,state_next,done])\n",
        "        \n",
        "        if len(replay_mem)>2048:\n",
        "            del replay_mem[0]\n",
        "            \n",
        "            \n",
        "        state = state_next\n",
        "        reward_tot += reward\n",
        "        state = state_next\n",
        "        \n",
        "        Q_list = []\n",
        "        state_list = []\n",
        "        \n",
        "        \n",
        "        #set this_replay_Size\n",
        "        if len(replay_mem)<replay_size:\n",
        "            this_replay_size = len(replay_mem)\n",
        "        else:\n",
        "            this_replay_size = replay_size\n",
        "            \n",
        "            \n",
        "        #sample random batch from replay_memory\n",
        "        for sample in random.sample(replay_mem,this_replay_size):\n",
        "            state_m,action_m,reward_m,state_next_m,done_m = sample\n",
        "            if done:\n",
        "                Q[0,action] = reward_m\n",
        "            else:\n",
        "                Q_new = model.predict(preprocessing(state_next_m))\n",
        "                if e>np.random.rand(1):\n",
        "                  new_action = env.action_space.sample()\n",
        "                else:\n",
        "                  new_action = np.argmax(Q)\n",
        "            \n",
        "                Q[0,action] += get_learning_rate(e)*(reward+0.9*Q_new[0,new_action])\n",
        "            Q_list.append(Q)\n",
        "            state_list.append(state_m)\n",
        "              \n",
        "        #convert to nupmy array and train\n",
        "        Q_list = np.array(Q_list)        \n",
        "        state_list = np.array(state_list)\n",
        "        \n",
        "        hist = model.fit(state_list,Q_list,epochs = 5,verbose = 0)\n",
        "        #print(\"Done :\",done,\"     Reward :\",reward,\"     Reward_total :\",reward_tot)\n",
        "    \n",
        "    local_mean.append(reward_tot)\n",
        "    reward_list.append(reward_tot)\n",
        "    if episode%10 == 0:\n",
        "        print(\"Episode :\",episode+1,\"     Reward_total :\", reward_tot,\"     Reward_local_mean :\",np.mean(local_mean))\n",
        "        local_mean = list()\n",
        "        \n",
        "print(\"*******End Learning\")"
      ]
    },
    {
      "cell_type": "code",
      "execution_count": null,
      "metadata": {
        "id": "FNEXYVkKIobg"
      },
      "outputs": [],
      "source": [
        ""
      ]
    }
  ],
  "metadata": {
    "accelerator": "GPU",
    "colab": {
      "name": "cartpole-sarsa.ipynb",
      "provenance": [],
      "authorship_tag": "ABX9TyODGbW/tmTCOYoZ+8sklAxS",
      "include_colab_link": true
    },
    "kernelspec": {
      "display_name": "Python 3",
      "name": "python3"
    },
    "language_info": {
      "name": "python"
    }
  },
  "nbformat": 4,
  "nbformat_minor": 0
}